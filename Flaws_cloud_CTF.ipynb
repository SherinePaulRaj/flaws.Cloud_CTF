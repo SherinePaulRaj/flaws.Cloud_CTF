{
  "nbformat": 4,
  "nbformat_minor": 0,
  "metadata": {
    "colab": {
      "provenance": []
    },
    "kernelspec": {
      "name": "python3",
      "display_name": "Python 3"
    },
    "language_info": {
      "name": "python"
    }
  },
  "cells": [
    {
      "cell_type": "markdown",
      "source": [
        "# Cloud Homework – Flaws Challenge\n",
        "# **Sherine Paul Raj**\n",
        "# UID: 119362921\n",
        "\n",
        "# **Challenge Overview**\n",
        "This report covers the solutions to the Flaws Cloud Capture the Flag (CTF) challenge, highlighting the steps taken to access various secret files, exploit AWS configurations, and navigate through different levels of the challenge using AWS S3, CLI, and other cloud tools.\n",
        "\n",
        "# **Challenge 1: URL for the Secret File**\n",
        "The URL for the secret file was discovered as:\n",
        "URL: https://flaws.cloud.s3.amazonaws.com/secret-dd02c7c.html\n",
        "\n",
        "# **Challenge 2: Accessing the Secret File Using Amazon CLI**\n",
        "The URL discovered through Amazon CLI is:\n",
        "URL: http://level2-c8b217a33fcf1f839f6f1f73a00a9ae7.flaws.cloud/secret-e4443fc.html\n",
        "- While executing commands from the Amazon CLI, it was possible to list and access this secret file.\n",
        "\n",
        "# **Challenge 3: Listing Files in the S3 Bucket**\n",
        "Using AWS S3 CLI, we were able to list files within the S3 bucket for this challenge.\n",
        "Command executed:\n"
      ],
      "metadata": {
        "id": "wsQ6kvr3cCi7"
      }
    },
    {
      "cell_type": "code",
      "source": [
        "aws s3 ls s3://<bucket-name> --profile flawslevel"
      ],
      "metadata": {
        "id": "BBopU7fccRen"
      },
      "execution_count": null,
      "outputs": []
    },
    {
      "cell_type": "markdown",
      "source": [
        "- Successfully exploited access_keys.txt, obtained the access key and secret access key.\n",
        "- Created a profile in the AWS environment, logged in, and listed all files under the S3 bucket.\n",
        "\n",
        "# **Challenge 4: Username and Password**\n",
        "To proceed further, the credentials discovered were:\n",
        "- Username: flaws\n",
        "- Password: nCP8xigdjpjyiXgJ7nJu7rw5Ro68iE8M\n",
        "- These credentials allowed us to log in and progress to the next level.\n",
        "\n",
        "# **Challenge 5: AWS S3 CLI Command Running as Profile \"level5\"**\n",
        "We were able to use credentials via a text editor or configure using:\n"
      ],
      "metadata": {
        "id": "5k_v4fpIcScR"
      }
    },
    {
      "cell_type": "code",
      "source": [
        "aws configure --profile flawslevel5"
      ],
      "metadata": {
        "id": "3MygmhnjcZDi"
      },
      "execution_count": null,
      "outputs": []
    },
    {
      "cell_type": "markdown",
      "source": [
        "- Access was gained through the magic IP and directory, which provided credentials to proceed.\n",
        "- The token used had an expiration time, necessitating quick actions.\n",
        "Command used:"
      ],
      "metadata": {
        "id": "3TgJS1EGchid"
      }
    },
    {
      "cell_type": "code",
      "source": [
        "aws s3 ls s3://level6-cc4c404a8a8b876167f5e70a7d8c9880.flaws.cloud --profile flawslevel5"
      ],
      "metadata": {
        "id": "UPqGxLvxcl1Z"
      },
      "execution_count": null,
      "outputs": []
    },
    {
      "cell_type": "markdown",
      "source": [],
      "metadata": {
        "id": "BAWx3Mm9cm2s"
      }
    },
    {
      "cell_type": "markdown",
      "source": [
        "\n",
        "# **Challenge 6: Final URL**\n",
        "During this level, we noted that some AWS policies utilized Lambda functions. By launching a GET request through the API (s33ppypa75), the final URL was constructed based on the API Gateway's output:\n",
        "- The final URL was derived from the cloud server location, using \"Prod\" as the stage name and \"level6\" as the function name.\n",
        "\n",
        "# **Conclusion**\n",
        "The Flaws Cloud CTF was an educational exercise that demonstrated practical exploitation methods within cloud environments. By manipulating various AWS services, such as S3 and Lambda, and exploiting credentials, several key security vulnerabilities were explored. This hands-on approach reinforces the importance of maintaining secure AWS configurations, effective credential management, and the need for constant vigilance against unauthorized access.\n",
        "\n",
        "# **Notes**\n",
        "- Each command was executed carefully, keeping in mind security practices to avoid any unintentional damage or misuse.\n",
        "- The findings highlight potential areas for security improvements, which would be addressed through the adoption of best practices in cloud security and configuration.\n"
      ],
      "metadata": {
        "id": "F6A3w2k7cm3y"
      }
    }
  ]
}